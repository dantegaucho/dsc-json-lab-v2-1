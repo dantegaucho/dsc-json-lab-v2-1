{
 "cells": [
  {
   "cell_type": "markdown",
   "metadata": {},
   "source": [
    "# JSON - Lab"
   ]
  },
  {
   "cell_type": "markdown",
   "metadata": {},
   "source": [
    "## Introduction\n",
    "\n",
    "In this lab, you'll practice navigating JSON data structures."
   ]
  },
  {
   "cell_type": "markdown",
   "metadata": {},
   "source": [
    "## Objectives\n",
    "\n",
    "You will be able to:\n",
    "\n",
    "* Practice using Python to load and parse JSON documents"
   ]
  },
  {
   "cell_type": "markdown",
   "metadata": {},
   "source": [
    "## Your Task: Find the Total Payments for Each Candidate\n",
    "\n",
    "We will be using the same dataset, `nyc_2001_campaign_finance.json`. The description of this file is:\n",
    "\n",
    "> A listing of public funds payments for candidates for City office during the 2001 election cycle\n",
    "\n",
    "For added context, the Ciy of New York provides matching funds for eligible contributions made to candidates, using various ratios depending on the contribution amount ([more details here](https://en.wikipedia.org/wiki/New_York_City_Campaign_Finance_Board#The_Campaign_Finance_Program)). So these are not the complete values of all funds raised by these candidates, they are the amounts matched by the city. For that reason we expect that some of the values will be identical for different candidates.\n",
    "\n",
    "The dataset is separated into `meta`, which contains metadata, and `data`, which contains the actual campaign finance records. You will need to use the information in `meta` to understand how to interpret the information in `data`.\n",
    "\n",
    "Your goal is to create a list of tuples, where the first value in each tuple is the name of a candidate in the 2001 election, and the second value is the total payments they received. The structure should look like this:\n",
    "\n",
    "```python\n",
    "[\n",
    "    (\"John Smith\", 62184.00),\n",
    "    (\"Jane Doe\", 133146.00),\n",
    "    ...\n",
    "]\n",
    "```\n",
    "\n",
    "The list should contain 284 tuples, since there were 284 candidates."
   ]
  },
  {
   "cell_type": "markdown",
   "metadata": {},
   "source": [
    "## Open the Dataset\n",
    "\n",
    "Import the `json` module, open the `nyc_2001_campaign_finance.json` file using the built-in Python `open` function, and load all of the data from the file into a Python object using `json.load`.\n",
    "\n",
    "Assign the result of `json.load` to the variable name `data`."
   ]
  },
  {
   "cell_type": "code",
   "execution_count": 254,
   "metadata": {},
   "outputs": [],
   "source": [
    "# Import the json module\n",
    "import json\n",
    "\n",
    "#open the file using with open function\n",
    "with open('nyc_2001_campaign_finance.json', 'r') as json_file:\n",
    "    data = json.load(json_file)"
   ]
  },
  {
   "cell_type": "markdown",
   "metadata": {},
   "source": [
    "Recall the overall structure of this dataset:"
   ]
  },
  {
   "cell_type": "code",
   "execution_count": 255,
   "metadata": {},
   "outputs": [
    {
     "name": "stdout",
     "output_type": "stream",
     "text": [
      "The overall data type is <class 'dict'>\n",
      "The keys are ['meta', 'data']\n",
      "\n",
      "The value associated with the 'meta' key has metadata, including all of these attributes:\n",
      "['id', 'name', 'attribution', 'averageRating', 'category', 'createdAt', 'description', 'displayType', 'downloadCount', 'hideFromCatalog', 'hideFromDataJson', 'indexUpdatedAt', 'newBackend', 'numberOfComments', 'oid', 'provenance', 'publicationAppendEnabled', 'publicationDate', 'publicationGroup', 'publicationStage', 'rowClass', 'rowsUpdatedAt', 'rowsUpdatedBy', 'tableId', 'totalTimesRated', 'viewCount', 'viewLastModified', 'viewType', 'columns', 'grants', 'metadata', 'owner', 'query', 'rights', 'tableAuthor', 'tags', 'flags']\n",
      "\n",
      "The value associated with the 'data' key is a list of 285 records\n"
     ]
    }
   ],
   "source": [
    "# Run this cell without changes\n",
    "\n",
    "print(f\"The overall data type is {type(data)}\")\n",
    "print(f\"The keys are {list(data.keys())}\")\n",
    "print()\n",
    "print(\"The value associated with the 'meta' key has metadata, including all of these attributes:\")\n",
    "print(list(data['meta']['view'].keys()))\n",
    "print()\n",
    "print(f\"The value associated with the 'data' key is a list of {len(data['data'])} records\")"
   ]
  },
  {
   "cell_type": "markdown",
   "metadata": {},
   "source": [
    "## Find the Column Names\n",
    "\n",
    "We know that each record in the data list looks something like this:"
   ]
  },
  {
   "cell_type": "code",
   "execution_count": 256,
   "metadata": {},
   "outputs": [
    {
     "data": {
      "text/plain": [
       "[2,\n",
       " '9D257416-581A-4C42-85CC-B6EAD9DED97F',\n",
       " 2,\n",
       " 1315925633,\n",
       " '392904',\n",
       " 1315925633,\n",
       " '392904',\n",
       " '{\\n}',\n",
       " '2001',\n",
       " 'B4',\n",
       " 'Aboulafia, Sandy',\n",
       " '5',\n",
       " None,\n",
       " '44',\n",
       " 'P',\n",
       " '45410.00',\n",
       " '0',\n",
       " '0',\n",
       " '45410.00']"
      ]
     },
     "execution_count": 256,
     "metadata": {},
     "output_type": "execute_result"
    }
   ],
   "source": [
    "# Run this cell without changes\n",
    "data['data'][1]"
   ]
  },
  {
   "cell_type": "markdown",
   "metadata": {},
   "source": [
    "We could probably guess which of those values is the candidate name, but it's unclear which value is the total payments received. To get that information, we need to look at the metadata.\n",
    "\n",
    "Investigate the value of `data['meta']['view']['columns']`.\n",
    "\n",
    "Let `data['meta']['view']['columns']` be called `column_data`. Verify that `column_data` results in a list."
   ]
  },
  {
   "cell_type": "code",
   "execution_count": 257,
   "metadata": {},
   "outputs": [
    {
     "data": {
      "text/plain": [
       "list"
      ]
     },
     "execution_count": 257,
     "metadata": {},
     "output_type": "execute_result"
    }
   ],
   "source": [
    "# Your code here (create more cells as needed)\n",
    "column_data = data['meta']['view']['columns'] #investigating the data\n",
    "type(column_data) #confirm if column data is a list\n"
   ]
  },
  {
   "cell_type": "markdown",
   "metadata": {},
   "source": [
    "Now look at the first few entries of `column_data`.\n",
    "\n",
    "The result should look something like this:\n",
    "\n",
    "```python\n",
    "[\n",
    "    \"sid\",\n",
    "    \"id\",\n",
    "    \"position\",\n",
    "    ...\n",
    "]\n",
    "```"
   ]
  },
  {
   "cell_type": "code",
   "execution_count": 258,
   "metadata": {},
   "outputs": [
    {
     "data": {
      "text/plain": [
       "{'id': -1,\n",
       " 'name': 'sid',\n",
       " 'dataTypeName': 'meta_data',\n",
       " 'fieldName': ':sid',\n",
       " 'position': 0,\n",
       " 'renderTypeName': 'meta_data',\n",
       " 'format': {},\n",
       " 'flags': ['hidden']}"
      ]
     },
     "execution_count": 258,
     "metadata": {},
     "output_type": "execute_result"
    }
   ],
   "source": [
    "#view column data\n",
    "column_data[0]"
   ]
  },
  {
   "cell_type": "code",
   "execution_count": 259,
   "metadata": {},
   "outputs": [
    {
     "data": {
      "text/plain": [
       "[{'id': -1,\n",
       "  'name': 'sid',\n",
       "  'dataTypeName': 'meta_data',\n",
       "  'fieldName': ':sid',\n",
       "  'position': 0,\n",
       "  'renderTypeName': 'meta_data',\n",
       "  'format': {},\n",
       "  'flags': ['hidden']},\n",
       " {'id': -1,\n",
       "  'name': 'id',\n",
       "  'dataTypeName': 'meta_data',\n",
       "  'fieldName': ':id',\n",
       "  'position': 0,\n",
       "  'renderTypeName': 'meta_data',\n",
       "  'format': {},\n",
       "  'flags': ['hidden']},\n",
       " {'id': -1,\n",
       "  'name': 'position',\n",
       "  'dataTypeName': 'meta_data',\n",
       "  'fieldName': ':position',\n",
       "  'position': 0,\n",
       "  'renderTypeName': 'meta_data',\n",
       "  'format': {},\n",
       "  'flags': ['hidden']}]"
      ]
     },
     "execution_count": 259,
     "metadata": {},
     "output_type": "execute_result"
    }
   ],
   "source": [
    "#first few entries\n",
    "first_few_entries = column_data[:3]\n",
    "first_few_entries"
   ]
  },
  {
   "cell_type": "code",
   "execution_count": 260,
   "metadata": {},
   "outputs": [
    {
     "name": "stdout",
     "output_type": "stream",
     "text": [
      "{'id': -1, 'name': 'sid', 'dataTypeName': 'meta_data', 'fieldName': ':sid', 'position': 0, 'renderTypeName': 'meta_data', 'format': {}, 'flags': ['hidden']}\n",
      "{'id': -1, 'name': 'id', 'dataTypeName': 'meta_data', 'fieldName': ':id', 'position': 0, 'renderTypeName': 'meta_data', 'format': {}, 'flags': ['hidden']}\n",
      "{'id': -1, 'name': 'position', 'dataTypeName': 'meta_data', 'fieldName': ':position', 'position': 0, 'renderTypeName': 'meta_data', 'format': {}, 'flags': ['hidden']}\n",
      "{'id': -1, 'name': 'created_at', 'dataTypeName': 'meta_data', 'fieldName': ':created_at', 'position': 0, 'renderTypeName': 'meta_data', 'format': {}, 'flags': ['hidden']}\n",
      "{'id': -1, 'name': 'created_meta', 'dataTypeName': 'meta_data', 'fieldName': ':created_meta', 'position': 0, 'renderTypeName': 'meta_data', 'format': {}, 'flags': ['hidden']}\n",
      "{'id': -1, 'name': 'updated_at', 'dataTypeName': 'meta_data', 'fieldName': ':updated_at', 'position': 0, 'renderTypeName': 'meta_data', 'format': {}, 'flags': ['hidden']}\n",
      "{'id': -1, 'name': 'updated_meta', 'dataTypeName': 'meta_data', 'fieldName': ':updated_meta', 'position': 0, 'renderTypeName': 'meta_data', 'format': {}, 'flags': ['hidden']}\n",
      "{'id': -1, 'name': 'meta', 'dataTypeName': 'meta_data', 'fieldName': ':meta', 'position': 0, 'renderTypeName': 'meta_data', 'format': {}, 'flags': ['hidden']}\n",
      "{'id': 75768833, 'name': 'ELECTION', 'dataTypeName': 'number', 'fieldName': 'election', 'position': 2, 'renderTypeName': 'number', 'tableColumnId': 1518991, 'width': 196, 'cachedContents': {'non_null': 284, 'average': '2001', 'largest': '2001', 'null': 1, 'top': [{'item': '2001', 'count': 20}], 'smallest': '2001', 'sum': '568284'}, 'format': {'precisionStyle': 'standard', 'noCommas': 'true', 'align': 'right'}}\n",
      "{'id': 75768834, 'name': 'CANDID', 'dataTypeName': 'text', 'fieldName': 'candid', 'position': 3, 'renderTypeName': 'text', 'tableColumnId': 1518992, 'width': 172, 'cachedContents': {'non_null': 285, 'largest': 'YA', 'null': 0, 'top': [{'item': '490', 'count': 20}, {'item': '577', 'count': 19}, {'item': 'GF', 'count': 18}, {'item': '265', 'count': 17}, {'item': '549', 'count': 16}, {'item': '260', 'count': 15}, {'item': 'DH', 'count': 14}, {'item': '168', 'count': 13}, {'item': '561', 'count': 12}, {'item': '317', 'count': 11}, {'item': '240', 'count': 10}, {'item': 'B1', 'count': 9}, {'item': '337', 'count': 8}, {'item': '202', 'count': 7}, {'item': 'DP', 'count': 6}, {'item': '554', 'count': 5}, {'item': '529', 'count': 4}, {'item': '521', 'count': 3}, {'item': 'CY', 'count': 2}, {'item': '327', 'count': 1}], 'smallest': '148'}, 'format': {}}\n",
      "{'id': 75768835, 'name': 'CANDNAME', 'dataTypeName': 'text', 'fieldName': 'candname', 'position': 4, 'renderTypeName': 'text', 'tableColumnId': 1518993, 'width': 196, 'cachedContents': {'non_null': 285, 'largest': 'Zett, Lori M', 'null': 0, 'top': [{'item': 'Taitt, Samuel A', 'count': 20}, {'item': 'Taliaferro, Phyllis', 'count': 19}, {'item': 'Taveras, Germania', 'count': 18}, {'item': 'Thakral, Jairam D', 'count': 17}, {'item': 'Thomas, Carl W', 'count': 16}, {'item': 'Thompson, Jr., William C', 'count': 15}, {'item': 'Tiraco, Joseph E', 'count': 14}, {'item': 'Toney, Vaughan', 'count': 13}, {'item': 'Toppin, Roger N', 'count': 12}, {'item': 'Torres, Mario A', 'count': 11}, {'item': 'Vallone, Jr., Peter F', 'count': 10}, {'item': 'Vallone, Peter F', 'count': 9}, {'item': 'Van Bramer, James G', 'count': 8}, {'item': 'Vann, Albert', 'count': 7}, {'item': 'Vargas, Ruben Dario', 'count': 6}, {'item': 'Vassos, Sandra', 'count': 5}, {'item': 'Vernet, Jean D', 'count': 4}, {'item': 'Viest, Nicholas D', 'count': 3}, {'item': 'Villaverde, Sergio', 'count': 2}, {'item': 'Vogel, Mark H', 'count': 1}], 'smallest': 'Aboulafia, Sandy'}, 'format': {}}\n",
      "{'id': 75768836, 'name': 'OFFICECD', 'dataTypeName': 'number', 'fieldName': 'officecd', 'position': 5, 'renderTypeName': 'number', 'tableColumnId': 1518994, 'width': 196, 'cachedContents': {'non_null': 284, 'average': '4.700704225352113', 'largest': '5', 'null': 1, 'top': [{'item': '5', 'count': 20}, {'item': '1', 'count': 19}, {'item': '3', 'count': 18}, {'item': '4', 'count': 17}, {'item': '2', 'count': 16}], 'smallest': '1', 'sum': '1335'}, 'format': {}}\n",
      "{'id': 75768837, 'name': 'OFFICEBORO', 'dataTypeName': 'text', 'fieldName': 'officeboro', 'position': 6, 'renderTypeName': 'text', 'tableColumnId': 1518995, 'width': 220, 'cachedContents': {'non_null': 21, 'largest': 'X', 'null': 264, 'top': [{'item': 'OFFICEBORO', 'count': 20}, {'item': 'X', 'count': 19}, {'item': 'M', 'count': 18}, {'item': 'K', 'count': 17}, {'item': 'Q', 'count': 16}, {'item': 'S', 'count': 15}], 'smallest': 'K'}, 'format': {}}\n",
      "{'id': 75768838, 'name': 'OFFICEDIST', 'dataTypeName': 'number', 'fieldName': 'officedist', 'position': 7, 'renderTypeName': 'number', 'tableColumnId': 1518996, 'width': 220, 'cachedContents': {'non_null': 245, 'average': '26.33061224489796', 'largest': '51', 'null': 40, 'top': [{'item': '7', 'count': 20}, {'item': '32', 'count': 19}, {'item': '37', 'count': 18}, {'item': '28', 'count': 17}, {'item': '19', 'count': 16}, {'item': '39', 'count': 15}, {'item': '35', 'count': 14}, {'item': '42', 'count': 13}, {'item': '31', 'count': 12}, {'item': '6', 'count': 11}, {'item': '47', 'count': 10}, {'item': '20', 'count': 9}, {'item': '1', 'count': 8}, {'item': '27', 'count': 7}, {'item': '26', 'count': 6}, {'item': '10', 'count': 5}, {'item': '34', 'count': 4}, {'item': '45', 'count': 3}, {'item': '40', 'count': 2}, {'item': '12', 'count': 1}], 'smallest': '1', 'sum': '6451'}, 'format': {}}\n",
      "{'id': 75768839, 'name': 'CANCLASS', 'dataTypeName': 'text', 'fieldName': 'canclass', 'position': 8, 'renderTypeName': 'text', 'tableColumnId': 1518997, 'width': 196, 'cachedContents': {'non_null': 285, 'largest': 'P', 'null': 0, 'top': [{'item': 'CANCLASS', 'count': 20}, {'item': 'P', 'count': 19}], 'smallest': 'CANCLASS'}, 'format': {}}\n",
      "{'id': 75768840, 'name': 'PRIMARYPAY', 'dataTypeName': 'number', 'fieldName': 'primarypay', 'position': 9, 'renderTypeName': 'number', 'tableColumnId': 1518998, 'width': 220, 'cachedContents': {'non_null': 284, 'average': '112243.9612676056', 'largest': '2846148.00', 'null': 1, 'top': [{'item': '75350.00', 'count': 20}, {'item': '0', 'count': 19}, {'item': '91333.00', 'count': 18}, {'item': '69780.00', 'count': 17}, {'item': '22172.00', 'count': 16}, {'item': '65356.00', 'count': 15}, {'item': '11423.00', 'count': 14}, {'item': '60152.00', 'count': 13}, {'item': '75040.00', 'count': 12}, {'item': '62436.00', 'count': 11}, {'item': '42075.00', 'count': 10}, {'item': '74920.00', 'count': 9}, {'item': '38088.00', 'count': 8}, {'item': '74850.00', 'count': 7}, {'item': '89502.00', 'count': 6}, {'item': '74350.00', 'count': 5}, {'item': '58348.00', 'count': 4}, {'item': '55100.00', 'count': 3}, {'item': '508893.00', 'count': 2}, {'item': '74750.00', 'count': 1}], 'smallest': '0', 'sum': '31877285.00'}, 'format': {}}\n",
      "{'id': 75768841, 'name': 'GENERALPAY', 'dataTypeName': 'number', 'fieldName': 'generalpay', 'position': 10, 'renderTypeName': 'number', 'tableColumnId': 1518999, 'width': 220, 'cachedContents': {'non_null': 284, 'average': '28753.57394366197', 'largest': '976545.00', 'null': 1, 'top': [{'item': '0', 'count': 20}, {'item': '75350.00', 'count': 19}, {'item': '201131.00', 'count': 18}, {'item': '39760.00', 'count': 17}, {'item': '57796.00', 'count': 16}, {'item': '75200.00', 'count': 15}, {'item': '68234.00', 'count': 14}, {'item': '5732.00', 'count': 13}, {'item': '58488.00', 'count': 12}, {'item': '62184.00', 'count': 11}, {'item': '44748.00', 'count': 10}, {'item': '21946.00', 'count': 9}, {'item': '70500.00', 'count': 8}], 'smallest': '0', 'sum': '8166015.00'}, 'format': {}}\n",
      "{'id': 75768842, 'name': 'RUNOFFPAY', 'dataTypeName': 'number', 'fieldName': 'runoffpay', 'position': 11, 'renderTypeName': 'number', 'tableColumnId': 1519000, 'width': 208, 'cachedContents': {'non_null': 284, 'average': '7776.778169014085', 'largest': '711537.00', 'null': 1, 'top': [{'item': '0', 'count': 20}, {'item': '267331.00', 'count': 19}, {'item': '574387.00', 'count': 18}, {'item': '303270.00', 'count': 17}, {'item': '711537.00', 'count': 16}, {'item': '114407.00', 'count': 15}, {'item': '237673.00', 'count': 14}], 'smallest': '0', 'sum': '2208605.00'}, 'format': {}}\n",
      "{'id': 75768843, 'name': 'TOTALPAY', 'dataTypeName': 'number', 'fieldName': 'totalpay', 'position': 12, 'renderTypeName': 'number', 'tableColumnId': 1519001, 'width': 196, 'cachedContents': {'non_null': 284, 'average': '148774.3133802817', 'largest': '4534230.00', 'null': 1, 'top': [{'item': '0', 'count': 20}, {'item': '75350.00', 'count': 19}, {'item': '150700.00', 'count': 18}, {'item': '2458534.00', 'count': 17}, {'item': '133146.00', 'count': 16}, {'item': '75200.00', 'count': 15}, {'item': '68234.00', 'count': 14}, {'item': '70664.00', 'count': 13}, {'item': '58488.00', 'count': 12}, {'item': '50112.00', 'count': 11}, {'item': '62184.00', 'count': 10}, {'item': '44748.00', 'count': 9}, {'item': '21946.00', 'count': 8}, {'item': '41656.00', 'count': 7}, {'item': '61260.00', 'count': 6}, {'item': '145850.00', 'count': 5}, {'item': '35808.00', 'count': 4}, {'item': '12172.00', 'count': 3}], 'smallest': '0', 'sum': '42251905.00'}, 'format': {}}\n"
     ]
    }
   ],
   "source": [
    "#iterate through the column_data to check the entries\n",
    "for entry in column_data:\n",
    "    print(entry)"
   ]
  },
  {
   "cell_type": "markdown",
   "metadata": {},
   "source": [
    "`column_data` currently contains significantly more information than we need. Extract just the values associated with the `name` keys using list comprehension, so we have a list of the column names.\n",
    "\n",
    "Now name this variable `column_names`."
   ]
  },
  {
   "cell_type": "code",
   "execution_count": 261,
   "metadata": {},
   "outputs": [
    {
     "data": {
      "text/plain": [
       "['sid',\n",
       " 'id',\n",
       " 'position',\n",
       " 'created_at',\n",
       " 'created_meta',\n",
       " 'updated_at',\n",
       " 'updated_meta',\n",
       " 'meta',\n",
       " 'ELECTION',\n",
       " 'CANDID',\n",
       " 'CANDNAME',\n",
       " 'OFFICECD',\n",
       " 'OFFICEBORO',\n",
       " 'OFFICEDIST',\n",
       " 'CANCLASS',\n",
       " 'PRIMARYPAY',\n",
       " 'GENERALPAY',\n",
       " 'RUNOFFPAY',\n",
       " 'TOTALPAY']"
      ]
     },
     "execution_count": 261,
     "metadata": {},
     "output_type": "execute_result"
    }
   ],
   "source": [
    "# Your code here (create more cells as needed)\n",
    "# iterate through column_data to get column names\n",
    "column_names = [entry['name'] for entry in column_data]\n",
    "column_names \n"
   ]
  },
  {
   "cell_type": "code",
   "execution_count": 262,
   "metadata": {},
   "outputs": [],
   "source": [
    "# Run this cell without changes\n",
    "\n",
    "# There should be 19 names\n",
    "assert len(column_names) == 19\n",
    "# CANDNAME and TOTALPAY should be in there\n",
    "assert \"CANDNAME\" in column_names and \"TOTALPAY\" in column_names"
   ]
  },
  {
   "cell_type": "markdown",
   "metadata": {},
   "source": [
    "Now we know what each of the columns represents.\n",
    "\n",
    "The columns we are looking for are called `CANDNAME` and `TOTALPAY`. Now that we have this list, we should be able to figure out which of the values in each record lines up with those column names."
   ]
  },
  {
   "cell_type": "markdown",
   "metadata": {},
   "source": [
    "## Loop Over the Records to Find the Names and Payments\n",
    "\n",
    "The data records are contained in `data['data']`. \n",
    "\n",
    "To loop over the records to find the names and payments, first we need to determine the indices of the candidate names and the total payments.\n",
    "\n",
    "Let `name_index` be the column names of `CANDNAME` and `total_payments_index` be the column names of `TOTALPAY`. After correctly defining `name_index` and `total_payments_index`, print their respective indices.\n",
    "\n"
   ]
  },
  {
   "cell_type": "code",
   "execution_count": 263,
   "metadata": {},
   "outputs": [
    {
     "name": "stdout",
     "output_type": "stream",
     "text": [
      "Index of CANDNAME: 10\n",
      "Index of TOTALPAY: 18\n"
     ]
    }
   ],
   "source": [
    "# Your code here (create more cells as needed)\n",
    "\n",
    "# In theory we could just look at the list and\n",
    "# count by hand to figure out the index of these\n",
    "# strings, but Python can do it for us\n",
    "\n",
    "name_index = column_names.index(\"CANDNAME\")\n",
    "print(f'Index of CANDNAME:', name_index)\n",
    "total_payments_index = column_names.index(\"TOTALPAY\")\n",
    "print(f'Index of TOTALPAY:', total_payments_index)"
   ]
  },
  {
   "cell_type": "markdown",
   "metadata": {},
   "source": [
    "Now loop over the records in `data['data']` and extract the name from `name_index` and total payment from `total_payments_index`. Make sure you convert the total payment to a float, then make a tuple representing that candidate. Append the tuple to an overall list of results called `candidate_total_payments`.\n",
    "\n",
    "Recall that the first (`0`-th) one is more of a header and should be skipped over.\n",
    "\n",
    "To verify that your loop worked, print the first five and the last five records."
   ]
  },
  {
   "cell_type": "code",
   "execution_count": 264,
   "metadata": {},
   "outputs": [
    {
     "ename": "TypeError",
     "evalue": "float() argument must be a string or a number, not 'NoneType'",
     "output_type": "error",
     "traceback": [
      "\u001b[1;31m---------------------------------------------------------------------------\u001b[0m",
      "\u001b[1;31mTypeError\u001b[0m                                 Traceback (most recent call last)",
      "\u001b[1;32m<ipython-input-264-5924973fc280>\u001b[0m in \u001b[0;36m<module>\u001b[1;34m\u001b[0m\n\u001b[0;32m      7\u001b[0m \u001b[1;32mfor\u001b[0m \u001b[0mrecord\u001b[0m \u001b[1;32min\u001b[0m \u001b[0mdata\u001b[0m\u001b[1;33m[\u001b[0m\u001b[1;34m'data'\u001b[0m\u001b[1;33m]\u001b[0m\u001b[1;33m:\u001b[0m\u001b[1;33m\u001b[0m\u001b[1;33m\u001b[0m\u001b[0m\n\u001b[0;32m      8\u001b[0m     \u001b[0mcandidate\u001b[0m \u001b[1;33m=\u001b[0m \u001b[0mrecord\u001b[0m\u001b[1;33m[\u001b[0m\u001b[0mname_index\u001b[0m\u001b[1;33m]\u001b[0m\u001b[1;33m\u001b[0m\u001b[1;33m\u001b[0m\u001b[0m\n\u001b[1;32m----> 9\u001b[1;33m     \u001b[0mtotal_payments\u001b[0m \u001b[1;33m=\u001b[0m \u001b[0mfloat\u001b[0m\u001b[1;33m(\u001b[0m\u001b[0mrecord\u001b[0m\u001b[1;33m[\u001b[0m\u001b[0mtotal_payments_index\u001b[0m\u001b[1;33m]\u001b[0m\u001b[1;33m)\u001b[0m\u001b[1;33m\u001b[0m\u001b[1;33m\u001b[0m\u001b[0m\n\u001b[0m\u001b[0;32m     10\u001b[0m     \u001b[0mcandidate_total_payments\u001b[0m\u001b[1;33m.\u001b[0m\u001b[0mappend\u001b[0m\u001b[1;33m(\u001b[0m\u001b[1;33m(\u001b[0m\u001b[0mcandidate\u001b[0m\u001b[1;33m,\u001b[0m \u001b[0mtotal_payments\u001b[0m\u001b[1;33m)\u001b[0m\u001b[1;33m)\u001b[0m\u001b[1;33m\u001b[0m\u001b[1;33m\u001b[0m\u001b[0m\n\u001b[0;32m     11\u001b[0m \u001b[1;33m\u001b[0m\u001b[0m\n",
      "\u001b[1;31mTypeError\u001b[0m: float() argument must be a string or a number, not 'NoneType'"
     ]
    }
   ],
   "source": [
    "# Your code here (create more cells as needed)\n",
    "\n",
    "candidate_total_payments = []\n",
    "\n",
    "# Loop over records starting at index 1 to skip header\n",
    "skip_header = (\"skip.header.line.count=1\")\n",
    "for record in data['data']:\n",
    "    candidate = record[name_index]\n",
    "    total_payments = float(record[total_payments_index])\n",
    "    candidate_total_payments.append((candidate, total_payments))\n",
    "\n",
    "\n",
    "# Print the first five and last five\n"
   ]
  },
  {
   "cell_type": "code",
   "execution_count": 174,
   "metadata": {},
   "outputs": [
    {
     "ename": "AssertionError",
     "evalue": "",
     "output_type": "error",
     "traceback": [
      "\u001b[1;31m---------------------------------------------------------------------------\u001b[0m",
      "\u001b[1;31mAssertionError\u001b[0m                            Traceback (most recent call last)",
      "\u001b[1;32m<ipython-input-174-e1737cbb89ad>\u001b[0m in \u001b[0;36m<module>\u001b[1;34m\u001b[0m\n\u001b[0;32m      2\u001b[0m \u001b[1;33m\u001b[0m\u001b[0m\n\u001b[0;32m      3\u001b[0m \u001b[1;31m# There should be 284 records\u001b[0m\u001b[1;33m\u001b[0m\u001b[1;33m\u001b[0m\u001b[1;33m\u001b[0m\u001b[0m\n\u001b[1;32m----> 4\u001b[1;33m \u001b[1;32massert\u001b[0m \u001b[0mlen\u001b[0m\u001b[1;33m(\u001b[0m\u001b[0mcandidate_total_payments\u001b[0m\u001b[1;33m)\u001b[0m \u001b[1;33m==\u001b[0m \u001b[1;36m284\u001b[0m\u001b[1;33m\u001b[0m\u001b[1;33m\u001b[0m\u001b[0m\n\u001b[0m\u001b[0;32m      5\u001b[0m \u001b[1;33m\u001b[0m\u001b[0m\n\u001b[0;32m      6\u001b[0m \u001b[1;31m# Each record should contain a tuple\u001b[0m\u001b[1;33m\u001b[0m\u001b[1;33m\u001b[0m\u001b[1;33m\u001b[0m\u001b[0m\n",
      "\u001b[1;31mAssertionError\u001b[0m: "
     ]
    }
   ],
   "source": [
    "# Run this cell without changes\n",
    "\n",
    "# There should be 284 records\n",
    "assert len(candidate_total_payments) == 284\n",
    "\n",
    "# Each record should contain a tuple\n",
    "assert type(candidate_total_payments[0]) == tuple\n",
    "\n",
    "# That tuple should contain a string and a number\n",
    "assert len(candidate_total_payments[0]) == 2\n",
    "assert type(candidate_total_payments[0][0]) == str\n",
    "assert type(candidate_total_payments[0][1]) == float"
   ]
  },
  {
   "cell_type": "markdown",
   "metadata": {},
   "source": [
    "Now that we have this result, we can answer questions like: *which candidates received the most total payments from the city*?"
   ]
  },
  {
   "cell_type": "code",
   "execution_count": null,
   "metadata": {},
   "outputs": [],
   "source": [
    "# Run this cell without changes\n",
    "\n",
    "# Print the top 10 candidates by total payments\n",
    "sorted(candidate_total_payments, key=lambda x: x[1], reverse=True)[:10]"
   ]
  },
  {
   "cell_type": "markdown",
   "metadata": {},
   "source": [
    "Since you found all of the column names, it is also possible to display all of the data in a nice tabular format using pandas. That code would look like this:"
   ]
  },
  {
   "cell_type": "code",
   "execution_count": null,
   "metadata": {},
   "outputs": [],
   "source": [
    "# Run this cell without changes\n",
    "\n",
    "import pandas as pd\n",
    "\n",
    "pd.DataFrame(data=data['data'][1:], columns=column_names)"
   ]
  },
  {
   "cell_type": "markdown",
   "metadata": {},
   "source": [
    "## Summary\n",
    "\n",
    "You've started exploring some more JSON data structures used for the web and got to practice data munging and exploring."
   ]
  }
 ],
 "metadata": {
  "kernelspec": {
   "display_name": "learn-env",
   "language": "python",
   "name": "python3"
  },
  "language_info": {
   "codemirror_mode": {
    "name": "ipython",
    "version": 3
   },
   "file_extension": ".py",
   "mimetype": "text/x-python",
   "name": "python",
   "nbconvert_exporter": "python",
   "pygments_lexer": "ipython3",
   "version": "3.8.5"
  },
  "toc": {
   "base_numbering": 1,
   "nav_menu": {},
   "number_sections": true,
   "sideBar": true,
   "skip_h1_title": false,
   "title_cell": "Table of Contents",
   "title_sidebar": "Contents",
   "toc_cell": false,
   "toc_position": {},
   "toc_section_display": true,
   "toc_window_display": false
  }
 },
 "nbformat": 4,
 "nbformat_minor": 2
}
